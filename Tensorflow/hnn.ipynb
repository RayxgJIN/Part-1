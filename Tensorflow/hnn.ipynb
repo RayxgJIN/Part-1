{
 "cells": [
  {
   "cell_type": "code",
   "execution_count": 1,
   "metadata": {},
   "outputs": [
    {
     "name": "stderr",
     "output_type": "stream",
     "text": [
      "2025-01-09 17:57:24.099191: I tensorflow/core/platform/cpu_feature_guard.cc:210] This TensorFlow binary is optimized to use available CPU instructions in performance-critical operations.\n",
      "To enable the following instructions: SSE4.1 SSE4.2 AVX AVX2 FMA, in other operations, rebuild TensorFlow with the appropriate compiler flags.\n"
     ]
    }
   ],
   "source": [
    "import os\n",
    "os.environ['CUDA_VISIBLE_DEVICES'] = '-1'\n",
    "import csv\n",
    "import torch, argparse\n",
    "import autograd.numpy as np\n",
    "import autograd\n",
    "\n",
    "from scipy.stats import norm\n",
    "from utils import leapfrog, to_pickle, from_pickle\n",
    "import tensorflow as tf\n",
    "import tensorflow_probability as tfp\n",
    "from scipy.stats import norm\n",
    "from scipy.stats import uniform"
   ]
  },
  {
   "cell_type": "code",
   "execution_count": 2,
   "metadata": {},
   "outputs": [],
   "source": [
    "input_dim = 2\n",
    "len_sample = 20\n",
    "num_samples = 20\n",
    "test_fraction = 0\n",
    "timescale = 0.05"
   ]
  },
  {
   "cell_type": "code",
   "execution_count": 3,
   "metadata": {},
   "outputs": [],
   "source": [
    "def H(coords):\n",
    "    #coords = [q,p] in R2\n",
    "    q, p = np.split(coords,2)\n",
    "    mu1 = 1.0\n",
    "    mu2 =-1.0\n",
    "    sigma = 0.35\n",
    "    term1 = -np.log(0.5*(np.exp(-(q-mu1)**2/(2*sigma**2)))+0.5*(np.exp(-(q-mu2)**2/(2*sigma**2))))\n",
    "    H_val = term1 + p**2/2 # Normal PDF\n",
    "    return H_val "
   ]
  },
  {
   "cell_type": "code",
   "execution_count": 4,
   "metadata": {},
   "outputs": [],
   "source": [
    "def dynamics_fn(t, coords):\n",
    "    dcoords = autograd.grad(H)(coords)\n",
    "    dic1 = np.split(dcoords,input_dim)\n",
    "    S = np.concatenate([dic1[int(input_dim/2)]])\n",
    "    for ii in np.arange(int(input_dim/2)+1,input_dim,1):\n",
    "        S = np.concatenate([S, dic1[ii]])\n",
    "    for ii in np.arange(0,int(input_dim/2),1):\n",
    "        S = np.concatenate([S, -dic1[ii]])\n",
    "    return S\n",
    "\n",
    "def get_trajectory(t_span=[0,len_sample], timescale=timescale, y0=None, **kwargs):\n",
    "    t_eval = np.linspace(t_span[0], t_span[1], int((t_span[1]-t_span[0])/timescale))\n",
    "\n",
    "    if y0 is None:\n",
    "        y0 = np.zeros(input_dim)\n",
    "        for ii in np.arange(0,int(input_dim/2),1):\n",
    "            y0[ii] = norm(loc=0,scale=1).rvs()\n",
    "    #lp_ivp = leapfrog(dynamics_fn, t_span, y0,int(timescale*(t_span[1]-t_span[0])), input_dim)\n",
    "    lp_ivp = leapfrog(dynamics_fn, t_span, y0,int((t_span[1]-t_span[0])/timescale), input_dim)\n",
    "    dic1 = np.split(lp_ivp, input_dim)\n",
    "    dydt = [dynamics_fn(None, lp_ivp[:,ii]) for ii in range(0, lp_ivp.shape[1])]\n",
    "    dydt = np.stack(dydt).T\n",
    "    ddic1 = np.split(dydt, input_dim)\n",
    "    return dic1, ddic1, t_eval"
   ]
  },
  {
   "cell_type": "code",
   "execution_count": 5,
   "metadata": {},
   "outputs": [],
   "source": [
    "def get_dataset(seed=0, samples=num_samples, test_split=(1.0-test_fraction), **kwargs):\n",
    "    data = {'meta': locals()}\n",
    "    # randomly sample inputs\n",
    "    np.random.seed(seed) #\n",
    "    xs, dxs = [], []\n",
    "    index1 = 0\n",
    "\n",
    "    count1 = 0\n",
    "    y_init = np.zeros(input_dim)\n",
    "    for ii in np.arange(0,int(input_dim/2),1):\n",
    "        y_init[ii] = 0.0\n",
    "    for ii in np.arange(int(input_dim/2),input_dim,1):\n",
    "        y_init[ii] = norm(loc=0,scale=1).rvs()\n",
    "\n",
    "    print('Generating HMC samples for HNN training')\n",
    "\n",
    "    for s in range(samples):\n",
    "        print('Sample number ' + str(s+1) + ' of ' + str(samples))\n",
    "        dic1, ddic1, t = get_trajectory(y0=y_init,**kwargs)\n",
    "        xs.append(np.stack( [dic1[ii].T.reshape(len(dic1[ii].T)) for ii in np.arange(0,input_dim,1)]).T)\n",
    "        dxs.append(np.stack( [ddic1[ii].T.reshape(len(ddic1[ii].T)) for ii in np.arange(0,input_dim,1)]).T)\n",
    "        y_init = np.zeros(input_dim)\n",
    "        count1 = count1 + 1\n",
    "        #print(dic1[0].shape)\n",
    "        for ii in np.arange(0,int(input_dim/2),1):\n",
    "            y_init[ii] = dic1[ii][0,-1]\n",
    "        for ii in np.arange(int(input_dim/2),input_dim,1):\n",
    "            y_init[ii] = norm(loc=0,scale=1).rvs()\n",
    "\n",
    "    data['coords'] = np.concatenate(xs)\n",
    "    data['dcoords'] = np.concatenate(dxs).squeeze()\n",
    "\n",
    "    # make a train/test split\n",
    "    split_ix = int(len(data['coords']) * test_split)\n",
    "    split_data = {}\n",
    "    for k in ['coords', 'dcoords']:\n",
    "        split_data[k], split_data['test_' + k] = data[k][:split_ix], data[k][split_ix:]\n",
    "    data = split_data\n",
    "\n",
    "    # save data\n",
    "    path = \"./data\"\n",
    "    if not os.path.exists(path):\n",
    "        os.makedirs(path)\n",
    "    to_pickle(data, path+\"/{}.pkl\".format(\"1DGaussian\"))\n",
    "\n",
    "    return data"
   ]
  },
  {
   "cell_type": "code",
   "execution_count": 6,
   "metadata": {},
   "outputs": [
    {
     "name": "stdout",
     "output_type": "stream",
     "text": [
      "Generating HMC samples for HNN training\n",
      "Sample number 1 of 20\n",
      "Sample number 2 of 20\n",
      "Sample number 3 of 20\n",
      "Sample number 4 of 20\n",
      "Sample number 5 of 20\n",
      "Sample number 6 of 20\n",
      "Sample number 7 of 20\n",
      "Sample number 8 of 20\n",
      "Sample number 9 of 20\n",
      "Sample number 10 of 20\n",
      "Sample number 11 of 20\n",
      "Sample number 12 of 20\n",
      "Sample number 13 of 20\n",
      "Sample number 14 of 20\n",
      "Sample number 15 of 20\n",
      "Sample number 16 of 20\n",
      "Sample number 17 of 20\n",
      "Sample number 18 of 20\n",
      "Sample number 19 of 20\n",
      "Sample number 20 of 20\n"
     ]
    }
   ],
   "source": [
    "dat = get_dataset()"
   ]
  },
  {
   "cell_type": "code",
   "execution_count": 7,
   "metadata": {},
   "outputs": [
    {
     "data": {
      "text/plain": [
       "((8020, 2), (8020, 2))"
      ]
     },
     "execution_count": 7,
     "metadata": {},
     "output_type": "execute_result"
    }
   ],
   "source": [
    "dat['coords'].shape,dat['dcoords'].shape"
   ]
  },
  {
   "cell_type": "code",
   "execution_count": 8,
   "metadata": {},
   "outputs": [
    {
     "data": {
      "text/plain": [
       "array([[ 1.76405235, -0.        ],\n",
       "       [ 1.87195437,  4.31608098],\n",
       "       [ 2.12738862,  5.90128914],\n",
       "       ...,\n",
       "       [-1.26356053, -2.97798555],\n",
       "       [-1.39881515, -2.43219933],\n",
       "       [-1.50553403, -1.83655565]])"
      ]
     },
     "execution_count": 8,
     "metadata": {},
     "output_type": "execute_result"
    }
   ],
   "source": [
    "dat[\"dcoords\"]"
   ]
  },
  {
   "cell_type": "code",
   "execution_count": 9,
   "metadata": {},
   "outputs": [],
   "source": [
    "import matplotlib.pyplot as plt "
   ]
  },
  {
   "cell_type": "code",
   "execution_count": 10,
   "metadata": {},
   "outputs": [
    {
     "data": {
      "text/plain": [
       "<matplotlib.collections.PathCollection at 0x14cf83830>"
      ]
     },
     "execution_count": 10,
     "metadata": {},
     "output_type": "execute_result"
    },
    {
     "data": {
      "image/png": "[encoded data removed]",
      "text/plain": [
       "<Figure size 640x480 with 1 Axes>"
      ]
     },
     "metadata": {},
     "output_type": "display_data"
    }
   ],
   "source": [
    "plt.scatter(dat['coords'][:,0],dat['coords'][:,1],s=1)"
   ]
  },
  {
   "cell_type": "code",
   "execution_count": 11,
   "metadata": {},
   "outputs": [
    {
     "data": {
      "image/png": "[encoded data removed]",
      "text/plain": [
       "<Figure size 640x480 with 1 Axes>"
      ]
     },
     "metadata": {},
     "output_type": "display_data"
    }
   ],
   "source": [
    "plt.hist(dat['coords'][:,0],bins=100)\n",
    "plt.show()"
   ]
  },
  {
   "cell_type": "code",
   "execution_count": 12,
   "metadata": {},
   "outputs": [
    {
     "data": {
      "text/plain": [
       "<matplotlib.collections.PathCollection at 0x14d1bc8c0>"
      ]
     },
     "execution_count": 12,
     "metadata": {},
     "output_type": "execute_result"
    },
    {
     "data": {
      "image/png": "[encoded data removed]",
      "text/plain": [
       "<Figure size 640x480 with 1 Axes>"
      ]
     },
     "metadata": {},
     "output_type": "display_data"
    }
   ],
   "source": [
    "plt.scatter(dat['dcoords'][:,0],dat['dcoords'][:,1],s=1)"
   ]
  },
  {
   "cell_type": "code",
   "execution_count": 13,
   "metadata": {},
   "outputs": [],
   "source": [
    "# Define the L-HNN model\n",
    "class L_HNN(tf.keras.Model):\n",
    "    def __init__(self):\n",
    "        super(L_HNN, self).__init__()\n",
    "        self.hidden_layers = [tf.keras.layers.Dense(100, activation='relu') for _ in range(3)]\n",
    "        self.output_layer = tf.keras.layers.Dense(input_dim)\n",
    "\n",
    "    def call(self, inputs):\n",
    "        x = inputs\n",
    "        for layer in self.hidden_layers:\n",
    "            x = layer(x)\n",
    "        return self.output_layer(x)\n",
    "\n",
    "    def build(self,input_shape):\n",
    "        self.hidden_layers[0].build(input_shape)\n",
    "        input_shape = self.hidden_layers[0].compute_output_shape(input_shape)\n",
    "        for layer in self.hidden_layers[1:]:\n",
    "            layer.build(input_shape)\n",
    "            input_shape = layer.compute_output_shape(input_shape)\n",
    "        self.output_layer.build(input_shape)\n",
    "        self.built = True\n",
    "\n",
    "\n",
    "class HNN(tf.keras.Model):\n",
    "    '''Learn arbitrary vector fields that are sums of conservative and solenoidal fields'''\n",
    "    def __init__(self, input_dim, differentiable_model, field_type='solenoidal',\n",
    "                    baseline=False, assume_canonical_coords=True):\n",
    "        super(HNN, self).__init__()\n",
    "        self.baseline = baseline\n",
    "        self.differentiable_model = differentiable_model\n",
    "        self.assume_canonical_coords = assume_canonical_coords\n",
    "        self.M = self.permutation_tensor(input_dim) # Levi-Civita permutation tensor\n",
    "        self.field_type = field_type\n",
    "\n",
    "    def call(self, x):\n",
    "        # traditional forward pass\n",
    "        if self.baseline:\n",
    "            return self.differentiable_model(x)\n",
    "\n",
    "        y = self.differentiable_model(x)\n",
    "        assert len(y.shape) == 2 and y.shape[1] == input_dim, \"Output tensor should have shape [batch_size, 2]\"\n",
    "        answer1 = tf.split(y,2,axis=1) # is it correct?\n",
    "        return answer1\n",
    "\n",
    "    #def lfrog_time_derivative(self, x, dt):\n",
    "    #    return lfrog(fun=self.time_derivative, y0=x, t=0, dt=dt)\n",
    "\n",
    "    def time_derivative(self, x, t=None, separate_fields=False):\n",
    "        '''NEURAL ODE-STLE VECTOR FIELD'''\n",
    "        if self.baseline:\n",
    "            return self.differentiable_model(x)\n",
    "\n",
    "        '''NEURAL HAMILTONIAN-STLE VECTOR FIELD'''\n",
    "\n",
    "        conservative_field = tf.zeros_like(x) # start out with both components set to 0\n",
    "        solenoidal_field = tf.zeros_like(x)\n",
    "\n",
    "        with tf.GradientTape() as tape:\n",
    "            tape.watch(x)\n",
    "            F1, F2 = self.call(x) # traditional forward pass\n",
    "            # notion: here autograd is a pytorch function, we change it to tf autograd\n",
    "            if self.field_type != 'solenoidal':\n",
    "                F1 = tf.reduce_sum(F1)\n",
    "                \n",
    "                dF1 = tape.gradient(F1, x)\n",
    "                conservative_field = dF1 @ tf.eye(*self.M.shape)\n",
    "\n",
    "            if self.field_type != 'conservative':\n",
    "                F2 = tf.reduce_sum(F2)\n",
    "                dF2 = tape.gradient(F2, x)\n",
    "                solenoidal_field = dF2 @ tf.transpose(self.M)\n",
    "\n",
    "        if separate_fields:\n",
    "            return [conservative_field, solenoidal_field]\n",
    "\n",
    "        return conservative_field + solenoidal_field\n",
    "\n",
    "    def permutation_tensor(self,n):\n",
    "        M = None\n",
    "        if self.assume_canonical_coords:\n",
    "            M = tf.eye(n)\n",
    "            M = tf.concat([M[n//2:], -M[:n//2]],axis=0)\n",
    "        else:\n",
    "            '''Constructs the Levi-Civita permutation tensor'''\n",
    "            M = tf.ones(n,n) # matrix of ones\n",
    "            M *= 1 - tf.eye(n) # clear diagonals\n",
    "            M[::2] *= -1 # pattern of signs\n",
    "            M[:,::2] *= -1\n",
    "\n",
    "            for i in range(n): # make asymmetric\n",
    "                for j in range(i+1, n):\n",
    "                    M[i,j] *= -1\n",
    "        return M\n",
    "\n",
    "\n",
    "# Training the L-HNN\n",
    "def train_l_hnn(coords,dcoords, epochs=3000):\n",
    "    model_hnn = L_HNN()\n",
    "    model_hnn.build(input_shape=(None, 2))\n",
    "    model = HNN(input_dim, model_hnn, field_type='solenoidal', baseline=False, assume_canonical_coords=True)\n",
    "    \n",
    "\n",
    "    optimizer = tf.keras.optimizers.Adam(learning_rate=0.0001)\n",
    "    num_trainable_params = np.sum([np.prod(var.shape) for var in model.trainable_variables])\n",
    "    print(f'Number of gradients to be calculated for L-HNN: {num_trainable_params}')\n",
    "\n",
    "    coords = tf.convert_to_tensor(coords, dtype=tf.float32)\n",
    "    dcoords = tf.convert_to_tensor(dcoords, dtype=tf.float32)\n",
    "\n",
    "    for epoch in range(epochs):\n",
    "        with tf.GradientTape() as tape:\n",
    "            with tf.GradientTape() as tape2:\n",
    "                tape2.watch(coords)\n",
    "                H = model(coords)\n",
    "\n",
    "                divH = tape2.gradient(H, coords)\n",
    "                H_q =  divH[:,0]\n",
    "                H_p =  divH[:,1]\n",
    "\n",
    "            loss = tf.reduce_mean(tf.square(H_p - dcoords[:,0])) + tf.reduce_mean(tf.square(-H_q - dcoords[:,1]))\n",
    "            grads = tape.gradient(loss, model.trainable_variables)\n",
    "\n",
    "            if grads is None or all(g is None for g in grads):\n",
    "                print(f\"No gradients computed at epoch {epoch}. Skipping update.\")\n",
    "                continue  # Skip update if no gradients are computed\n",
    "\n",
    "            optimizer.apply_gradients(zip(grads, model.trainable_variables))\n",
    "\n",
    "            if epoch % 100 == 0:\n",
    "                print(f'Epoch {epoch}, Loss: {loss.numpy()}')\n",
    "\n",
    "            if epoch % 1000 == 0:\n",
    "                model.differentiable_model.save_weights(\"./models/L_HNN.weights.h5\")\n",
    "    \n",
    "    return model"
   ]
  },
  {
   "cell_type": "code",
   "execution_count": 16,
   "metadata": {},
   "outputs": [
    {
     "name": "stdout",
     "output_type": "stream",
     "text": [
      "Number of gradients to be calculated for L-HNN: 20702\n",
      "Epoch 0, Loss: 15.233819961547852\n",
      "Epoch 100, Loss: 13.58804702758789\n",
      "Epoch 200, Loss: 11.488572120666504\n",
      "Epoch 300, Loss: 10.714287757873535\n",
      "Epoch 400, Loss: 10.282903671264648\n",
      "Epoch 500, Loss: 10.022917747497559\n",
      "Epoch 600, Loss: 10.059419631958008\n",
      "Epoch 700, Loss: 10.032273292541504\n",
      "Epoch 800, Loss: 9.986496925354004\n",
      "Epoch 900, Loss: 9.94749927520752\n"
     ]
    }
   ],
   "source": [
    "model = train_l_hnn(dat['coords'],dat['dcoords'])"
   ]
  },
  {
   "cell_type": "code",
   "execution_count": 17,
   "metadata": {},
   "outputs": [],
   "source": [
    "model_ = L_HNN()\n",
    "model_.build(input_shape=(None, 2))\n",
    "model_.load_weights(\"./models/L_HNN.weights.h5\")\n",
    "model = HNN(input_dim=input_dim, differentiable_model=model_, field_type='solenoidal', baseline=False, assume_canonical_coords=True)\n"
   ]
  },
  {
   "cell_type": "code",
   "execution_count": 31,
   "metadata": {},
   "outputs": [],
   "source": [
    "chains = 1 # number of Markov chains\n",
    "N = 5000 # number of samples   \n",
    "L = 10 # length of each hamiltonian trajectory\n",
    "burn = 20 # burn-in samples\n",
    "epsilon = 0.025 # step for time integration"
   ]
  },
  {
   "cell_type": "code",
   "execution_count": 32,
   "metadata": {},
   "outputs": [],
   "source": [
    "def integrate_model(model, t_span, y0, n, **kwargs):\n",
    "    def fun(t, np_x):\n",
    "        #x = tf.convert_to_tensor( np_x, requires_grad=True, dtype=torch.float32).view(1,input_dim)\n",
    "        x = tf.convert_to_tensor(np_x.reshape(-1,input_dim), dtype=tf.float32)\n",
    "        dx = model.time_derivative(x).numpy().reshape(-1)\n",
    "        return dx\n",
    "    return leapfrog(fun, t_span, y0, n, input_dim)"
   ]
  },
  {
   "cell_type": "code",
   "execution_count": 33,
   "metadata": {},
   "outputs": [
    {
     "name": "stdout",
     "output_type": "stream",
     "text": [
      "Sample: 0 Chain: 0\n",
      "Sample: 1 Chain: 0\n",
      "Sample: 2 Chain: 0\n",
      "Sample: 3 Chain: 0\n",
      "Sample: 4 Chain: 0\n",
      "Sample: 5 Chain: 0\n",
      "Sample: 6 Chain: 0\n",
      "Sample: 7 Chain: 0\n",
      "Sample: 8 Chain: 0\n",
      "Sample: 9 Chain: 0\n",
      "Sample: 10 Chain: 0\n",
      "Sample: 11 Chain: 0\n",
      "Sample: 12 Chain: 0\n",
      "Sample: 13 Chain: 0\n",
      "Sample: 14 Chain: 0\n",
      "Sample: 15 Chain: 0\n",
      "Sample: 16 Chain: 0\n",
      "Sample: 17 Chain: 0\n",
      "Sample: 18 Chain: 0\n",
      "Sample: 19 Chain: 0\n",
      "Sample: 20 Chain: 0\n",
      "Sample: 21 Chain: 0\n",
      "Sample: 22 Chain: 0\n",
      "Sample: 23 Chain: 0\n",
      "Sample: 24 Chain: 0\n",
      "Sample: 25 Chain: 0\n",
      "Sample: 26 Chain: 0\n",
      "Sample: 27 Chain: 0\n",
      "Sample: 28 Chain: 0\n",
      "Sample: 29 Chain: 0\n",
      "Sample: 30 Chain: 0\n",
      "Sample: 31 Chain: 0\n",
      "Sample: 32 Chain: 0\n",
      "Sample: 33 Chain: 0\n",
      "Sample: 34 Chain: 0\n",
      "Sample: 35 Chain: 0\n",
      "Sample: 36 Chain: 0\n",
      "Sample: 37 Chain: 0\n",
      "Sample: 38 Chain: 0\n",
      "Sample: 39 Chain: 0\n",
      "Sample: 40 Chain: 0\n",
      "Sample: 41 Chain: 0\n",
      "Sample: 42 Chain: 0\n",
      "Sample: 43 Chain: 0\n",
      "Sample: 44 Chain: 0\n",
      "Sample: 45 Chain: 0\n",
      "Sample: 46 Chain: 0\n",
      "Sample: 47 Chain: 0\n",
      "Sample: 48 Chain: 0\n",
      "Sample: 49 Chain: 0\n",
      "Sample: 50 Chain: 0\n",
      "Sample: 51 Chain: 0\n",
      "Sample: 52 Chain: 0\n",
      "Sample: 53 Chain: 0\n",
      "Sample: 54 Chain: 0\n",
      "Sample: 55 Chain: 0\n",
      "Sample: 56 Chain: 0\n",
      "Sample: 57 Chain: 0\n",
      "Sample: 58 Chain: 0\n",
      "Sample: 59 Chain: 0\n",
      "Sample: 60 Chain: 0\n",
      "Sample: 61 Chain: 0\n",
      "Sample: 62 Chain: 0\n",
      "Sample: 63 Chain: 0\n",
      "Sample: 64 Chain: 0\n",
      "Sample: 65 Chain: 0\n",
      "Sample: 66 Chain: 0\n",
      "Sample: 67 Chain: 0\n",
      "Sample: 68 Chain: 0\n",
      "Sample: 69 Chain: 0\n",
      "Sample: 70 Chain: 0\n",
      "Sample: 71 Chain: 0\n",
      "Sample: 72 Chain: 0\n",
      "Sample: 73 Chain: 0\n",
      "Sample: 74 Chain: 0\n",
      "Sample: 75 Chain: 0\n",
      "Sample: 76 Chain: 0\n",
      "Sample: 77 Chain: 0\n",
      "Sample: 78 Chain: 0\n",
      "Sample: 79 Chain: 0\n",
      "Sample: 80 Chain: 0\n",
      "Sample: 81 Chain: 0\n"
     ]
    }
   ],
   "source": [
    "steps = L*int(1/epsilon)\n",
    "t_span = [0,L]\n",
    "kwargs = {'t_eval': np.linspace(t_span[0], t_span[1], steps), 'rtol': 1e-10}\n",
    "hnn_fin = np.zeros((chains,N,int(input_dim/2)))\n",
    "hnn_accept = np.zeros((chains,N))\n",
    "\n",
    "y0 = np.zeros(input_dim)\n",
    "for ss in np.arange(0,chains,1):\n",
    "    x_req = np.zeros((N,int(input_dim/2)))\n",
    "    x_req[0,:] = y0[0:int(input_dim/2)]\n",
    "    accept = np.zeros(N)\n",
    "    \n",
    "    for ii in np.arange(0,int(input_dim/2),1):\n",
    "        y0[ii] = 0.0\n",
    "    for ii in np.arange(int(input_dim/2),int(input_dim),1):\n",
    "        y0[ii] = norm(loc=0,scale=1).rvs()\n",
    "    HNN_sto = np.zeros((input_dim,steps,N))\n",
    "    for ii in np.arange(0,N,1):\n",
    "        hnn_ivp = integrate_model(model, t_span, y0, steps-1, **kwargs)\n",
    "        #hnn_ivp = leapfrog(dynamics_fn, t_span, y0, steps-1, input_dim)\n",
    "        for sss in range(0,input_dim):\n",
    "            HNN_sto[sss,:,ii] = hnn_ivp[sss,:]\n",
    "        yhamil = np.zeros(input_dim)\n",
    "        for jj in np.arange(0,input_dim,1):\n",
    "            yhamil[jj] = hnn_ivp[jj,steps-1]\n",
    "        H_star = H(yhamil)\n",
    "        H_prev = H(y0)\n",
    "        alpha = np.minimum(1,np.exp(H_prev - H_star))\n",
    "        if alpha > uniform().rvs():\n",
    "            y0[0:int(input_dim/2)] = hnn_ivp[0:int(input_dim/2),steps-1]\n",
    "            x_req[ii,:] = hnn_ivp[0:int(input_dim/2),steps-1]\n",
    "            accept[ii] = 1\n",
    "        else:\n",
    "            x_req[ii,:] = y0[0:int(input_dim/2)]\n",
    "        for jj in np.arange(int(input_dim/2),input_dim,1):\n",
    "            y0[jj] = norm(loc=0,scale=1).rvs()\n",
    "        print(\"Sample: \"+str(ii)+\" Chain: \"+str(ss))\n",
    "    hnn_accept[ss,:] = accept\n",
    "    hnn_fin[ss,:,:] = x_req\n",
    "\n",
    "ess_hnn = np.zeros((chains,int(input_dim/2)))\n",
    "for ss in np.arange(0,chains,1):\n",
    "    hnn_tf = tf.convert_to_tensor(hnn_fin[ss,burn:N,:])\n",
    "    ess_hnn[ss,:] = np.array(tfp.mcmc.effective_sample_size(hnn_tf))"
   ]
  },
  {
   "cell_type": "code",
   "execution_count": 27,
   "metadata": {},
   "outputs": [],
   "source": [
    "for ss in np.arange(0,chains,1):\n",
    "    subdat = hnn_fin[ss,burn:N,:]\n",
    "    subacc = hnn_accept[ss,burn:N]\n",
    "\n",
    "    accpt = subdat[subacc==1,:]\n",
    "    "
   ]
  },
  {
   "cell_type": "code",
   "execution_count": 28,
   "metadata": {},
   "outputs": [
    {
     "data": {
      "text/plain": [
       "(42, 1)"
      ]
     },
     "execution_count": 28,
     "metadata": {},
     "output_type": "execute_result"
    }
   ],
   "source": [
    "accpt.shape "
   ]
  },
  {
   "cell_type": "code",
   "execution_count": 29,
   "metadata": {},
   "outputs": [
    {
     "data": {
      "text/plain": [
       "(array([1., 0., 0., 1., 1., 1., 2., 2., 0., 0., 0., 1., 0., 0., 1., 2., 1.,\n",
       "        1., 0., 0., 1., 1., 0., 0., 0., 0., 1., 0., 0., 0., 1., 0., 0., 0.,\n",
       "        1., 0., 0., 0., 0., 0., 1., 0., 0., 0., 1., 1., 0., 0., 0., 0., 0.,\n",
       "        0., 0., 0., 0., 0., 0., 0., 0., 0., 0., 0., 0., 0., 0., 1., 0., 0.,\n",
       "        1., 0., 1., 1., 0., 0., 1., 1., 0., 0., 0., 0., 3., 1., 0., 0., 1.,\n",
       "        1., 2., 0., 1., 0., 1., 0., 0., 1., 0., 0., 2., 0., 0., 1.]),\n",
       " array([-1.67895905, -1.64448888, -1.61001872, -1.57554856, -1.54107839,\n",
       "        -1.50660823, -1.47213806, -1.4376679 , -1.40319774, -1.36872757,\n",
       "        -1.33425741, -1.29978724, -1.26531708, -1.23084692, -1.19637675,\n",
       "        -1.16190659, -1.12743642, -1.09296626, -1.0584961 , -1.02402593,\n",
       "        -0.98955577, -0.9550856 , -0.92061544, -0.88614528, -0.85167511,\n",
       "        -0.81720495, -0.78273478, -0.74826462, -0.71379446, -0.67932429,\n",
       "        -0.64485413, -0.61038396, -0.5759138 , -0.54144364, -0.50697347,\n",
       "        -0.47250331, -0.43803314, -0.40356298, -0.36909282, -0.33462265,\n",
       "        -0.30015249, -0.26568232, -0.23121216, -0.196742  , -0.16227183,\n",
       "        -0.12780167, -0.0933315 , -0.05886134, -0.02439118,  0.01007899,\n",
       "         0.04454915,  0.07901932,  0.11348948,  0.14795964,  0.18242981,\n",
       "         0.21689997,  0.25137014,  0.2858403 ,  0.32031046,  0.35478063,\n",
       "         0.38925079,  0.42372096,  0.45819112,  0.49266128,  0.52713145,\n",
       "         0.56160161,  0.59607178,  0.63054194,  0.6650121 ,  0.69948227,\n",
       "         0.73395243,  0.7684226 ,  0.80289276,  0.83736292,  0.87183309,\n",
       "         0.90630325,  0.94077342,  0.97524358,  1.00971374,  1.04418391,\n",
       "         1.07865407,  1.11312424,  1.1475944 ,  1.18206456,  1.21653473,\n",
       "         1.25100489,  1.28547506,  1.31994522,  1.35441538,  1.38888555,\n",
       "         1.42335571,  1.45782588,  1.49229604,  1.5267662 ,  1.56123637,\n",
       "         1.59570653,  1.6301767 ,  1.66464686,  1.69911702,  1.73358719,\n",
       "         1.76805735]),\n",
       " <BarContainer object of 100 artists>)"
      ]
     },
     "execution_count": 29,
     "metadata": {},
     "output_type": "execute_result"
    },
    {
     "data": {
      "image/png": "[encoded data removed]",
      "text/plain": [
       "<Figure size 640x480 with 1 Axes>"
      ]
     },
     "metadata": {},
     "output_type": "display_data"
    }
   ],
   "source": [
    "plt.hist(accpt,bins=100)"
   ]
  },
  {
   "cell_type": "code",
   "execution_count": null,
   "metadata": {},
   "outputs": [],
   "source": []
  },
  {
   "cell_type": "code",
   "execution_count": null,
   "metadata": {},
   "outputs": [],
   "source": []
  }
 ],
 "metadata": {
  "kernelspec": {
   "display_name": "Python 3",
   "language": "python",
   "name": "python3"
  },
  "language_info": {
   "codemirror_mode": {
    "name": "ipython",
    "version": 3
   },
   "file_extension": ".py",
   "mimetype": "text/x-python",
   "name": "python",
   "nbconvert_exporter": "python",
   "pygments_lexer": "ipython3",
   "version": "3.12.8"
  }
 },
 "nbformat": 4,
 "nbformat_minor": 2
}
